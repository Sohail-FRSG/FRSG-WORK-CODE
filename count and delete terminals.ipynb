{
 "cells": [
  {
   "cell_type": "code",
   "execution_count": 12,
   "id": "88c7c057",
   "metadata": {},
   "outputs": [
    {
     "name": "stdout",
     "output_type": "stream",
     "text": [
      "node already exists in the tree\n",
      "node already exists in the tree\n",
      "terminal\n",
      "Number of terminal nodes in the tree: 2\n",
      "1 2 3 4 5 6 7 8 9 None\n",
      "\n",
      "Tree after deleting terminal nodes:\n",
      "None\n"
     ]
    }
   ],
   "source": [
    "class Tree_Node:\n",
    "    def __init__(self, value):\n",
    "        self.left = None\n",
    "        self.data = value\n",
    "        self.right = None\n",
    "class Tree:\n",
    "    def __init(self):\n",
    "        self.root = None\n",
    "    def create_node(self, data):\n",
    "        return Tree_Node(data)\n",
    "    def insert(self, node, data):\n",
    "        if node is None:\n",
    "            return self.create_node(data)\n",
    "        if data < node.data:\n",
    "            node.left = self.insert(node.left, data)\n",
    "        elif data > node.data:\n",
    "            node.right = self.insert(node.right, data)\n",
    "        else:\n",
    "            print('node already exists in the tree')\n",
    "        return node\n",
    "    \n",
    "    def display(self, node):\n",
    "        if node:\n",
    "            self.display(node.left)\n",
    "            print(node.data, end=\" \")\n",
    "            self.display(node.right)\n",
    "    def count_terminals(self, node):\n",
    "        if node is None:\n",
    "            return 0\n",
    "        if node.left is None and node.right is None:\n",
    "            return 1\n",
    "        return self.count_terminals(node.left) + self.count_terminals(node.right)\n",
    "    \n",
    "    def delete_terminals(self, node):\n",
    "        if node is None:\n",
    "            return None\n",
    "        if node.left is None and node.right is None:\n",
    "            return None  \n",
    "     \n",
    "    \n",
    "data = [2,3,4,5,1,6,7,8,4,9,2]            \n",
    "obj = Tree()\n",
    "root = obj.create_node(8)\n",
    "root = None  # Initialize the root as None\n",
    "\n",
    "# Insert data from the list into the tree\n",
    "for value in data:\n",
    "    root = obj.insert(root, value)\n",
    "print('terminal')   \n",
    "terminal_count = obj.count_terminals(root)\n",
    "print(f\"Number of terminal nodes in the tree: {terminal_count}\")\n",
    "\n",
    "print(obj.display(root))\n",
    "\n",
    "# Delete all terminal nodes in the tree\n",
    "root = obj.delete_terminals(root)\n",
    "\n",
    "# Display the tree after deleting terminal nodes\n",
    "print(\"\\nTree after deleting terminal nodes:\")\n",
    "print(obj.display(root))"
   ]
  },
  {
   "cell_type": "code",
   "execution_count": null,
   "id": "1958d5b0",
   "metadata": {},
   "outputs": [],
   "source": []
  }
 ],
 "metadata": {
  "kernelspec": {
   "display_name": "Python 3 (ipykernel)",
   "language": "python",
   "name": "python3"
  },
  "language_info": {
   "codemirror_mode": {
    "name": "ipython",
    "version": 3
   },
   "file_extension": ".py",
   "mimetype": "text/x-python",
   "name": "python",
   "nbconvert_exporter": "python",
   "pygments_lexer": "ipython3",
   "version": "3.11.5"
  }
 },
 "nbformat": 4,
 "nbformat_minor": 5
}
