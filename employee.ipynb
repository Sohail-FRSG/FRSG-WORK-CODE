{
 "cells": [
  {
   "cell_type": "code",
   "execution_count": 63,
   "id": "4d799d95",
   "metadata": {},
   "outputs": [
    {
     "name": "stdout",
     "output_type": "stream",
     "text": [
      "001 shahid khan CS\n",
      "002 majid khan CS\n",
      "C is not offered!\n",
      "{'srn': '001', 'fname': 'shahid', 'lname': 'khan', 'department': 'CS', 'courses': []}\n"
     ]
    }
   ],
   "source": [
    "class Employee:\n",
    "    department = 'CS'\n",
    "    offersub = ['cpp', 'dld', 'AI', 'cns', 'bc']\n",
    "    def __init__(self, srn, fname, lname, department):\n",
    "        self.srn = srn\n",
    "        self.fname = fname\n",
    "        self.lname = lname\n",
    "        self.department = department\n",
    "        self.courses = []\n",
    "    def regsubjects(self, *sub):\n",
    "        for s in sub:\n",
    "            if s not in Employee.offersub:\n",
    "                print(f'{s} is not offered!')\n",
    "        if s not in self.courses:\n",
    "            self.courses.append(s)\n",
    "\n",
    "                \n",
    "emp = Employee('001', 'shahid', 'khan', 'CS')\n",
    "emp1 = Employee('002', 'majid', 'khan', 'CS')\n",
    "#Employee.initialize(emp,'001', 'shahid', 'khan')\n",
    "#emp.initialize('001', 'shahid', 'khan')\n",
    "#Employee.initialize(emp1, '002', 'majid', 'khan')\n",
    "#emp1.initialize('002', 'majid', 'khan')\n",
    "print(emp.srn, emp.fname, emp.lname,emp.department)\n",
    "print(emp1.srn, emp1.fname, emp1.lname,emp.department)\n",
    "emp1.regsubjects('cpp', 'AI', 'C')\n",
    "print(emp.__dict__)"
   ]
  },
  {
   "cell_type": "code",
   "execution_count": 29,
   "id": "4fab4c83",
   "metadata": {},
   "outputs": [
    {
     "name": "stdout",
     "output_type": "stream",
     "text": [
      "farhan khan cpp\n"
     ]
    }
   ],
   "source": [
    "class Instructor:\n",
    "    subject=['cpp'] \n",
    "    def __init__(self, fname, lname, subject):\n",
    "        self.fname = fname\n",
    "        self.lname = lname\n",
    "        self.subject = subject\n",
    "        \n",
    "teach = Instructor('farhan', 'khan', \"cpp\")\n",
    "print(teach.fname, teach.lname, teach.subject)"
   ]
  },
  {
   "cell_type": "code",
   "execution_count": 64,
   "id": "5fe46b2f",
   "metadata": {},
   "outputs": [
    {
     "ename": "SyntaxError",
     "evalue": "expected ':' (1000334665.py, line 1)",
     "output_type": "error",
     "traceback": [
      "\u001b[1;36m  Cell \u001b[1;32mIn[64], line 1\u001b[1;36m\u001b[0m\n\u001b[1;33m    class Student\u001b[0m\n\u001b[1;37m                 ^\u001b[0m\n\u001b[1;31mSyntaxError\u001b[0m\u001b[1;31m:\u001b[0m expected ':'\n"
     ]
    }
   ],
   "source": [
    "class Student"
   ]
  },
  {
   "cell_type": "code",
   "execution_count": 75,
   "id": "c45a6a37",
   "metadata": {},
   "outputs": [
    {
     "name": "stdout",
     "output_type": "stream",
     "text": [
      "(2,3)\n",
      "3.605551275463989\n"
     ]
    }
   ],
   "source": [
    "from math import sqrt\n",
    "class Point:\n",
    "    def __init__(self, x, y):\n",
    "        self.x = x\n",
    "        self.y = y\n",
    "    @property\n",
    "    def mag(self):\n",
    "        return sqrt(self.x**2+self.y**2)\n",
    "    def __repr__(self):\n",
    "        return f'({self.x},{self.y})'\n",
    "    \n",
    "p = Point(2,3)\n",
    "print(p)\n",
    "print(p.mag)\n"
   ]
  },
  {
   "cell_type": "code",
   "execution_count": 82,
   "id": "e120466c",
   "metadata": {},
   "outputs": [
    {
     "name": "stdout",
     "output_type": "stream",
     "text": [
      "20\n"
     ]
    }
   ],
   "source": [
    "class Age:\n",
    "    def __init__(self, age=0):\n",
    "        self._age = age\n",
    "    def get_age(self):\n",
    "        return self._age\n",
    "    def set_age(self, a):\n",
    "        self._age = a\n",
    "\n",
    "ag = Age(20)\n",
    "print(ag._age)"
   ]
  },
  {
   "cell_type": "code",
   "execution_count": 100,
   "id": "46dc358f",
   "metadata": {},
   "outputs": [
    {
     "name": "stdout",
     "output_type": "stream",
     "text": [
      "1\n",
      "3\n",
      "6\n",
      "1\n",
      "1\n",
      "3\n"
     ]
    }
   ],
   "source": [
    "import random\n",
    "class Dice:\n",
    "    def __init__(self):\n",
    "        self._sideUp = 1\n",
    "    def roll(self):\n",
    "        self._sideUp = random.randint(1,6)\n",
    "    def __str__(self):\n",
    "        return str(self._sideUp)\n",
    "\n",
    "dice = Dice()\n",
    "print(dice)\n",
    "for i in range(5):\n",
    "    dice.roll()\n",
    "    dice.__sideUp = 6\n",
    "    print(dice)"
   ]
  },
  {
   "cell_type": "code",
   "execution_count": null,
   "id": "a7f954e0",
   "metadata": {},
   "outputs": [],
   "source": []
  }
 ],
 "metadata": {
  "kernelspec": {
   "display_name": "Python 3 (ipykernel)",
   "language": "python",
   "name": "python3"
  },
  "language_info": {
   "codemirror_mode": {
    "name": "ipython",
    "version": 3
   },
   "file_extension": ".py",
   "mimetype": "text/x-python",
   "name": "python",
   "nbconvert_exporter": "python",
   "pygments_lexer": "ipython3",
   "version": "3.11.5"
  }
 },
 "nbformat": 4,
 "nbformat_minor": 5
}
