{
 "cells": [
  {
   "cell_type": "code",
   "execution_count": 1,
   "id": "f284387f",
   "metadata": {},
   "outputs": [
    {
     "name": "stdout",
     "output_type": "stream",
     "text": [
      "hello, this is my first python program!\n"
     ]
    }
   ],
   "source": [
    "print('hello, this is my first python program!')"
   ]
  },
  {
   "cell_type": "code",
   "execution_count": 3,
   "id": "067908f9",
   "metadata": {},
   "outputs": [
    {
     "name": "stdout",
     "output_type": "stream",
     "text": [
      "false\n"
     ]
    }
   ],
   "source": [
    "x=4\n",
    "y=5\n",
    "if x>y:\n",
    "    print(\"true\")\n",
    "else:\n",
    "    print('false')"
   ]
  },
  {
   "cell_type": "code",
   "execution_count": 9,
   "id": "0342ffb1",
   "metadata": {},
   "outputs": [
    {
     "name": "stdout",
     "output_type": "stream",
     "text": [
      "garde A\n"
     ]
    }
   ],
   "source": [
    "marks = 82\n",
    "if marks in range(80,100):\n",
    "    print('garde A')\n",
    "if marks in range(70,79):\n",
    "    print('grade B')\n",
    "if marks in range(60,69):\n",
    "    print('grade C')\n",
    "if marks in range(50,59):\n",
    "    print('grade D')\n",
    "if marks in range(40,49):\n",
    "    print('grade E')\n",
    "elif marks<=39:\n",
    "    print('Fail')"
   ]
  },
  {
   "cell_type": "code",
   "execution_count": 20,
   "id": "6a2e3592",
   "metadata": {},
   "outputs": [
    {
     "data": {
      "text/plain": [
       "[1, 2, 3, 4, 5, 6, 7]"
      ]
     },
     "execution_count": 20,
     "metadata": {},
     "output_type": "execute_result"
    }
   ],
   "source": [
    "# python list\n",
    "list = [1,2,3,4,5,6]\n",
    "list\n",
    "type(list)\n",
    "list[0]\n",
    "list.append(7)\n",
    "list"
   ]
  },
  {
   "cell_type": "code",
   "execution_count": 37,
   "id": "232f7bff",
   "metadata": {},
   "outputs": [
    {
     "data": {
      "text/plain": [
       "2"
      ]
     },
     "execution_count": 37,
     "metadata": {},
     "output_type": "execute_result"
    }
   ],
   "source": [
    "#python tuple\n",
    "tup=(1,2,3,4)\n",
    "tup\n",
    "type(tup)\n",
    "max(tup)\n",
    "min(tup)\n",
    "tup.index(3)"
   ]
  },
  {
   "cell_type": "code",
   "execution_count": 22,
   "id": "6129950b",
   "metadata": {},
   "outputs": [
    {
     "data": {
      "text/plain": [
       "{1, 2, 3, 4, 5, 6}"
      ]
     },
     "execution_count": 22,
     "metadata": {},
     "output_type": "execute_result"
    }
   ],
   "source": [
    "#python sets\n",
    "set = {1,2,3,4,5}\n",
    "set\n",
    "set.add(6)\n",
    "set"
   ]
  },
  {
   "cell_type": "code",
   "execution_count": 26,
   "id": "9b921937",
   "metadata": {},
   "outputs": [
    {
     "data": {
      "text/plain": [
       "{'ali': 4, 'FAST': 5}"
      ]
     },
     "execution_count": 26,
     "metadata": {},
     "output_type": "execute_result"
    }
   ],
   "source": [
    "#python dictionary\n",
    "dic= {'ali':4}\n",
    "dic\n",
    "type(dic)\n",
    "dic.update({'FAST': 5})\n",
    "dic"
   ]
  },
  {
   "cell_type": "code",
   "execution_count": 38,
   "id": "415619df",
   "metadata": {},
   "outputs": [
    {
     "name": "stdout",
     "output_type": "stream",
     "text": [
      "CPU times: total: 0 ns\n",
      "Wall time: 0 ns\n"
     ]
    },
    {
     "data": {
      "text/plain": [
       "()"
      ]
     },
     "execution_count": 38,
     "metadata": {},
     "output_type": "execute_result"
    }
   ],
   "source": [
    "time()"
   ]
  },
  {
   "cell_type": "code",
   "execution_count": 53,
   "id": "7335f141",
   "metadata": {},
   "outputs": [
    {
     "name": "stdout",
     "output_type": "stream",
     "text": [
      "<class 'str'>\n"
     ]
    }
   ],
   "source": [
    "def ff(str):\n",
    "    str = \"this is my first function\"\n",
    "print(str)\n",
    "ff(str)"
   ]
  },
  {
   "cell_type": "code",
   "execution_count": 68,
   "id": "872393f6",
   "metadata": {},
   "outputs": [
    {
     "name": "stdout",
     "output_type": "stream",
     "text": [
      "(2, 3)\n"
     ]
    }
   ],
   "source": [
    "from math import sqrt\n",
    "class Point:\n",
    "    def __init__(self, x, y):\n",
    "        self.x = x\n",
    "        self.y = y\n",
    "    @property\n",
    "    def mag(self):\n",
    "        sq  = sqrt((self.x**2)+(self.y**2))\n",
    "        return sq\n",
    "    def __str__(self):\n",
    "        return f'({self.x}, {self.y})'\n",
    "p1 = Point(2,3)\n",
    "print(p1)"
   ]
  },
  {
   "cell_type": "code",
   "execution_count": 82,
   "id": "ef171967",
   "metadata": {},
   "outputs": [
    {
     "name": "stdout",
     "output_type": "stream",
     "text": [
      "None\n",
      "shah\n"
     ]
    }
   ],
   "source": [
    "class Std:\n",
    "    def __init__(self, fname, lname):\n",
    "        self.fname =  fname\n",
    "        self.lname =  lname\n",
    "    def get_fname(self):\n",
    "        self.fname = newname\n",
    "    def set_fname(self):\n",
    "        self.fname = newname\n",
    "s1 = Std('ali', 'raza')\n",
    "print(setattr(s1, 'fname', 'shah'))\n",
    "print(getattr(s1, 'fname'))"
   ]
  },
  {
   "cell_type": "code",
   "execution_count": 85,
   "id": "360d161d",
   "metadata": {},
   "outputs": [
    {
     "name": "stdout",
     "output_type": "stream",
     "text": [
      "[2, 3]\n",
      "[2, 3]\n"
     ]
    }
   ],
   "source": [
    "a = [2] + [3]\n",
    "print(a)\n",
    "a = [2].__add__([3])\n",
    "print(a)"
   ]
  },
  {
   "cell_type": "code",
   "execution_count": 94,
   "id": "61161857",
   "metadata": {},
   "outputs": [],
   "source": [
    "class RR:\n",
    "    def __init__(self):\n",
    "        self._marks = 87\n",
    "    @property\n",
    "    def marks(self):\n",
    "        return self._marks\n",
    "p = RR()\n"
   ]
  },
  {
   "cell_type": "code",
   "execution_count": 95,
   "id": "0cf6d0ed",
   "metadata": {},
   "outputs": [
    {
     "data": {
      "text/plain": [
       "87"
      ]
     },
     "execution_count": 95,
     "metadata": {},
     "output_type": "execute_result"
    }
   ],
   "source": [
    "p.marks"
   ]
  },
  {
   "cell_type": "code",
   "execution_count": 97,
   "id": "a9b03b12",
   "metadata": {},
   "outputs": [
    {
     "name": "stdout",
     "output_type": "stream",
     "text": [
      "300\n",
      "300\n"
     ]
    }
   ],
   "source": [
    "x = 300\n",
    "\n",
    "def myfunc():\n",
    "  print(x)\n",
    "\n",
    "myfunc()\n",
    "\n",
    "print(x)"
   ]
  },
  {
   "cell_type": "code",
   "execution_count": 100,
   "id": "17a28f18",
   "metadata": {},
   "outputs": [
    {
     "name": "stdout",
     "output_type": "stream",
     "text": [
      "200\n",
      "300\n"
     ]
    }
   ],
   "source": [
    "x = 300\n",
    "\n",
    "def myfunc():\n",
    "  x = 200\n",
    "  print(x)\n",
    "\n",
    "myfunc()\n",
    "\n",
    "print(x)"
   ]
  },
  {
   "cell_type": "code",
   "execution_count": 102,
   "id": "0ee03a10",
   "metadata": {},
   "outputs": [
    {
     "data": {
      "text/plain": [
       "6"
      ]
     },
     "execution_count": 102,
     "metadata": {},
     "output_type": "execute_result"
    }
   ],
   "source": [
    "len('sohail')"
   ]
  },
  {
   "cell_type": "code",
   "execution_count": 103,
   "id": "1cb68236",
   "metadata": {},
   "outputs": [
    {
     "data": {
      "text/plain": [
       "3"
      ]
     },
     "execution_count": 103,
     "metadata": {},
     "output_type": "execute_result"
    }
   ],
   "source": [
    "len([1,2,3])"
   ]
  },
  {
   "cell_type": "code",
   "execution_count": 105,
   "id": "42bc09a8",
   "metadata": {},
   "outputs": [
    {
     "data": {
      "text/plain": [
       "1"
      ]
     },
     "execution_count": 105,
     "metadata": {},
     "output_type": "execute_result"
    }
   ],
   "source": [
    "len([123])"
   ]
  },
  {
   "cell_type": "code",
   "execution_count": 107,
   "id": "331adbe1",
   "metadata": {},
   "outputs": [
    {
     "data": {
      "text/plain": [
       "140718246040968"
      ]
     },
     "execution_count": 107,
     "metadata": {},
     "output_type": "execute_result"
    }
   ],
   "source": [
    "X = 20\n",
    "Y = 20\n",
    "id(X)\n",
    "id(Y)"
   ]
  },
  {
   "cell_type": "code",
   "execution_count": 108,
   "id": "e91be15e",
   "metadata": {},
   "outputs": [
    {
     "data": {
      "text/plain": [
       "True"
      ]
     },
     "execution_count": 108,
     "metadata": {},
     "output_type": "execute_result"
    }
   ],
   "source": [
    "X is Y"
   ]
  },
  {
   "cell_type": "code",
   "execution_count": 109,
   "id": "02ee5129",
   "metadata": {},
   "outputs": [
    {
     "data": {
      "text/plain": [
       "True"
      ]
     },
     "execution_count": 109,
     "metadata": {},
     "output_type": "execute_result"
    }
   ],
   "source": [
    "Y is X"
   ]
  },
  {
   "cell_type": "code",
   "execution_count": 110,
   "id": "7fac5cc6",
   "metadata": {},
   "outputs": [
    {
     "data": {
      "text/plain": [
       "'shai'"
      ]
     },
     "execution_count": 110,
     "metadata": {},
     "output_type": "execute_result"
    }
   ],
   "source": [
    "\"shai\""
   ]
  },
  {
   "cell_type": "code",
   "execution_count": 111,
   "id": "c9af13f0",
   "metadata": {},
   "outputs": [
    {
     "data": {
      "text/plain": [
       "1605546243184"
      ]
     },
     "execution_count": 111,
     "metadata": {},
     "output_type": "execute_result"
    }
   ],
   "source": [
    "id('shai')"
   ]
  },
  {
   "cell_type": "code",
   "execution_count": 133,
   "id": "c67d675d",
   "metadata": {},
   "outputs": [
    {
     "name": "stdout",
     "output_type": "stream",
     "text": [
      "4\n",
      "5\n"
     ]
    },
    {
     "ename": "AttributeError",
     "evalue": "'Son' object has no attribute 'ss'",
     "output_type": "error",
     "traceback": [
      "\u001b[1;31m---------------------------------------------------------------------------\u001b[0m",
      "\u001b[1;31mAttributeError\u001b[0m                            Traceback (most recent call last)",
      "Cell \u001b[1;32mIn[133], line 14\u001b[0m\n\u001b[0;32m     12\u001b[0m \u001b[38;5;28mprint\u001b[39m(o\u001b[38;5;241m.\u001b[39mx)\n\u001b[0;32m     13\u001b[0m \u001b[38;5;28mprint\u001b[39m(o\u001b[38;5;241m.\u001b[39my)\n\u001b[1;32m---> 14\u001b[0m \u001b[38;5;28mprint\u001b[39m(o\u001b[38;5;241m.\u001b[39mss())\n",
      "\u001b[1;31mAttributeError\u001b[0m: 'Son' object has no attribute 'ss'"
     ]
    }
   ],
   "source": [
    "class Father():\n",
    "    def __init__(self, x, y):\n",
    "        self.x=4\n",
    "        self.y=5\n",
    "    def add():\n",
    "        ss=sum(x,y)\n",
    "        return ss\n",
    "class Son(Father):\n",
    "    def add(a,b):\n",
    "        return ss\n",
    "o = Son(2,3)\n",
    "print(o.x)\n",
    "print(o.y)\n",
    "print(o.ss())"
   ]
  },
  {
   "cell_type": "code",
   "execution_count": null,
   "id": "429d001d",
   "metadata": {},
   "outputs": [],
   "source": []
  },
  {
   "cell_type": "code",
   "execution_count": null,
   "id": "45561e5c",
   "metadata": {},
   "outputs": [],
   "source": []
  }
 ],
 "metadata": {
  "kernelspec": {
   "display_name": "Python 3 (ipykernel)",
   "language": "python",
   "name": "python3"
  },
  "language_info": {
   "codemirror_mode": {
    "name": "ipython",
    "version": 3
   },
   "file_extension": ".py",
   "mimetype": "text/x-python",
   "name": "python",
   "nbconvert_exporter": "python",
   "pygments_lexer": "ipython3",
   "version": "3.11.5"
  }
 },
 "nbformat": 4,
 "nbformat_minor": 5
}
