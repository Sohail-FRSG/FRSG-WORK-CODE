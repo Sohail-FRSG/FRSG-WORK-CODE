{
 "cells": [
  {
   "cell_type": "code",
   "execution_count": 30,
   "id": "225fc2da",
   "metadata": {},
   "outputs": [
    {
     "name": "stdout",
     "output_type": "stream",
     "text": [
      "Emil Refsnes\n"
     ]
    }
   ],
   "source": [
    "def my_function(fname, lname):\n",
    "  print(fname + \" \" + lname)\n",
    "\n",
    "my_function(\"Emil\", \"Refsnes\")"
   ]
  },
  {
   "cell_type": "code",
   "execution_count": 31,
   "id": "c46554ad",
   "metadata": {},
   "outputs": [
    {
     "name": "stdout",
     "output_type": "stream",
     "text": [
      "The youngest child is Tobias\n"
     ]
    }
   ],
   "source": [
    "def my_function(*kids):\n",
    "  print(\"The youngest child is \" + kids[1])\n",
    "\n",
    "my_function(\"Emil\", \"Tobias\", \"Linus\")"
   ]
  },
  {
   "cell_type": "code",
   "execution_count": 32,
   "id": "fd695808",
   "metadata": {},
   "outputs": [
    {
     "name": "stdout",
     "output_type": "stream",
     "text": [
      "The youngest child is Linus\n"
     ]
    }
   ],
   "source": [
    "def my_function(child3, child2, child1):\n",
    "  print(\"The youngest child is \" + child3)\n",
    "\n",
    "my_function(child1 = \"Emil\", child2 = \"Tobias\", child3 = \"Linus\")"
   ]
  },
  {
   "cell_type": "code",
   "execution_count": 33,
   "id": "fbc78431",
   "metadata": {},
   "outputs": [
    {
     "name": "stdout",
     "output_type": "stream",
     "text": [
      "His last name is Tobias\n"
     ]
    }
   ],
   "source": [
    "def my_function(**child):\n",
    "  print(\"His last name is \" + child[\"child2\"])\n",
    "\n",
    "my_function(child1 = \"Emil\", child2 = \"Tobias\", child3 = \"Linus\")"
   ]
  },
  {
   "cell_type": "code",
   "execution_count": 34,
   "id": "9a6e8069",
   "metadata": {},
   "outputs": [
    {
     "name": "stdout",
     "output_type": "stream",
     "text": [
      "Inside Function: FAST School of Computing\n",
      "Outside Function: FAST\n"
     ]
    }
   ],
   "source": [
    "# Python code to demonstrate call by value\n",
    "string = \"FAST\"\n",
    "\n",
    "\n",
    "def test(string):\n",
    "    string = \"FAST School of Computing\"\n",
    "    print(\"Inside Function:\", string)\n",
    "\n",
    "# Driver's code\n",
    "test(string)\n",
    "print(\"Outside Function:\", string)\n"
   ]
  },
  {
   "cell_type": "code",
   "execution_count": 35,
   "id": "b401888f",
   "metadata": {},
   "outputs": [
    {
     "name": "stdout",
     "output_type": "stream",
     "text": [
      "Enter diamond's height: 9\n",
      "          *\n",
      "         ***\n",
      "        *****\n",
      "       *******\n",
      "      *********\n",
      "     ***********\n",
      "    *************\n",
      "   ***************\n",
      "  *****************\n",
      "   ***************\n",
      "    *************\n",
      "     ***********\n",
      "      *********\n",
      "       *******\n",
      "        *****\n",
      "         ***\n",
      "          *\n"
     ]
    }
   ],
   "source": [
    "h = eval(input(\"Enter diamond's height: \"))\n",
    "\n",
    "for x in range(h):\n",
    "    print(\" \" * (h - x), \"*\" * (2*x + 1))\n",
    "for x in range(h - 2, -1, -1):\n",
    "    print(\" \" * (h - x), \"*\" * (2*x + 1))"
   ]
  },
  {
   "cell_type": "code",
   "execution_count": 36,
   "id": "ae271701",
   "metadata": {},
   "outputs": [
    {
     "name": "stdout",
     "output_type": "stream",
     "text": [
      "1414256829808\n",
      "1414256829808\n",
      "True\n"
     ]
    }
   ],
   "source": [
    "a = \"first\"\n",
    "b = \"first\"\n",
    "\n",
    "\n",
    "# Returns the actual location \n",
    "# where the variable is stored\n",
    "print(id(a))\n",
    "\n",
    "# Returns the actual location \n",
    "# where the variable is stored\n",
    "print(id(b))\n",
    "\n",
    "# Returns true if both the variables\n",
    "# are stored in same location\n",
    "print(b is a)\n"
   ]
  },
  {
   "cell_type": "code",
   "execution_count": 37,
   "id": "88c81d34",
   "metadata": {},
   "outputs": [
    {
     "name": "stdout",
     "output_type": "stream",
     "text": [
      "1414353589504\n",
      "1414361432704\n",
      "False\n",
      "[10, 20, 30]\n"
     ]
    }
   ],
   "source": [
    "a = [10, 20, 30]\n",
    "b = [10, 20, 30]\n",
    "\n",
    "# return the location\n",
    "# where the variable \n",
    "# is stored\n",
    "print(id(a))\n",
    "\n",
    "# return the location\n",
    "# where the variable \n",
    "# is stored\n",
    "print(id(b))\n",
    "\n",
    "# returns false if the\n",
    "# location is not same\n",
    "print(a is b)\n",
    "print(a)"
   ]
  },
  {
   "cell_type": "code",
   "execution_count": 39,
   "id": "4a85f082",
   "metadata": {},
   "outputs": [
    {
     "name": "stdout",
     "output_type": "stream",
     "text": [
      "Welcome to function\n"
     ]
    }
   ],
   "source": [
    "# A simple Python function\n",
    "def fun():\n",
    "    print(\"Welcome to function\")\n",
    "\n",
    "\n",
    "# Driver code to call a function\n",
    "fun()\n"
   ]
  },
  {
   "cell_type": "code",
   "execution_count": 40,
   "id": "a8ee9efb",
   "metadata": {},
   "outputs": [
    {
     "name": "stdout",
     "output_type": "stream",
     "text": [
      "The addition of 25 and 15 results 40.\n"
     ]
    }
   ],
   "source": [
    "def add(num1: int, num2: int) -> int:\n",
    "    \"\"\"Add two numbers\"\"\"\n",
    "    num3 = num1 + num2\n",
    "\n",
    "    return num3\n",
    "\n",
    "# Driver code\n",
    "num1, num2 = 25, 15\n",
    "ans = add(num1, num2)\n",
    "print(f\"The addition of {num1} and {num2} results {ans}.\")\n"
   ]
  },
  {
   "cell_type": "code",
   "execution_count": 41,
   "id": "7f415f4b",
   "metadata": {},
   "outputs": [
    {
     "name": "stdout",
     "output_type": "stream",
     "text": [
      "I am from Sweden\n",
      "I am from India\n",
      "I am from Austria\n",
      "I am from Brazil\n"
     ]
    }
   ],
   "source": [
    "def my_function(country = \"Norway\"):\n",
    "  print(\"I am from \" + country)\n",
    "\n",
    "my_function(\"Sweden\")\n",
    "my_function(\"India\")\n",
    "my_function(\"Austria\")\n",
    "my_function(\"Brazil\")"
   ]
  },
  {
   "cell_type": "code",
   "execution_count": 42,
   "id": "37e392b4",
   "metadata": {},
   "outputs": [
    {
     "name": "stdout",
     "output_type": "stream",
     "text": [
      "List before function call : [1]\n",
      "List received:  [1]\n",
      "[1, 3, 7, 1]\n",
      "List after adding some elements: [1, 3, 7, 1]\n",
      "List within called function: [3, 4, 6]\n",
      "List after function call:  [1, 3, 1]\n"
     ]
    }
   ],
   "source": [
    "def myFunc(myList):\n",
    " print(\"List received: \",myList)\n",
    " myList.append(3)\n",
    " myList.extend([7,1])\n",
    " print(myList)\n",
    " print(\"List after adding some elements:\", myList)\n",
    " myList.remove(7)\n",
    " myList=[3, 4, 6]\n",
    " print(\"List within called function:\", myList)\n",
    " return\n",
    " \n",
    "List1=[1]\n",
    "print(\"List before function call :\",List1)\n",
    "myFunc(List1)\n",
    "print(\"List after function call: \",List1)\n"
   ]
  },
  {
   "cell_type": "code",
   "execution_count": 45,
   "id": "a1810d64",
   "metadata": {},
   "outputs": [
    {
     "name": "stdout",
     "output_type": "stream",
     "text": [
      "List received:  [1, 2, 3, 4, 5, 6, 7, 'ali']\n"
     ]
    },
    {
     "data": {
      "text/plain": [
       "list"
      ]
     },
     "execution_count": 45,
     "metadata": {},
     "output_type": "execute_result"
    }
   ],
   "source": [
    "def myFunc(myList):\n",
    " print(\"List received: \",myList)\n",
    "list1 = [1,2,3,4,5,6,7, 'ali']\n",
    "myFunc(list1)\n",
    "type(list1)"
   ]
  },
  {
   "cell_type": "code",
   "execution_count": 33,
   "id": "c87127a1",
   "metadata": {},
   "outputs": [
    {
     "name": "stdout",
     "output_type": "stream",
     "text": [
      "Hello  Steve ,  Bill ,  ali\n"
     ]
    }
   ],
   "source": [
    "def greet(*names):  \n",
    "    print ('Hello ', names[0], ', ', names[1], ', ', names[2])\n",
    "\n",
    "greet('Steve', 'Bill', 'ali') "
   ]
  },
  {
   "cell_type": "code",
   "execution_count": 47,
   "id": "3cea1bf8",
   "metadata": {},
   "outputs": [
    {
     "name": "stdout",
     "output_type": "stream",
     "text": [
      "shahid\n",
      "raza\n",
      "rahim\n",
      "laiq\n",
      "remsha\n"
     ]
    }
   ],
   "source": [
    "# Python program to illustrate\n",
    "# *args for variable number of arguments\n",
    "def myFun(*argv):\n",
    "    for arg in argv:\n",
    "        print(arg)\n",
    "\n",
    "\n",
    "myFun('shahid', 'raza', 'rahim', 'laiq', 'remsha')\n"
   ]
  },
  {
   "cell_type": "code",
   "execution_count": 51,
   "id": "9bd013b1",
   "metadata": {},
   "outputs": [
    {
     "name": "stdout",
     "output_type": "stream",
     "text": [
      "[1, 2, 3, 4, 5, 6]\n"
     ]
    }
   ],
   "source": [
    "list = [1,2,3]\n",
    "list.append(4)\n",
    "list.extend([5,6])\n",
    "print(list)"
   ]
  },
  {
   "cell_type": "code",
   "execution_count": 53,
   "id": "1bb87740",
   "metadata": {},
   "outputs": [
    {
     "name": "stdout",
     "output_type": "stream",
     "text": [
      "{1, 2, 3, 4}\n"
     ]
    }
   ],
   "source": [
    "set = {1,2,3}\n",
    "set.add(4)\n",
    "print(set)"
   ]
  },
  {
   "cell_type": "code",
   "execution_count": 47,
   "id": "561c411f",
   "metadata": {},
   "outputs": [
    {
     "name": "stdout",
     "output_type": "stream",
     "text": [
      "{1: 'ss', 2: 'dd'}\n"
     ]
    }
   ],
   "source": [
    "dic = {1:'ss'}\n",
    "dic.update({2:'dd'})\n",
    "print(dic)"
   ]
  },
  {
   "cell_type": "code",
   "execution_count": 48,
   "id": "90a83161",
   "metadata": {},
   "outputs": [
    {
     "name": "stdout",
     "output_type": "stream",
     "text": [
      "first == I\n",
      "mid == am\n",
      "last == student\n"
     ]
    }
   ],
   "source": [
    "def myFun(arg1, **kwargs):\n",
    "\tfor key, value in kwargs.items():\n",
    "\t\tprint(\"%s == %s\" % (key, value))\n",
    "\n",
    "\n",
    "# Driver code\n",
    "myFun(\"Hi\", first='I', mid='am', last='student')\n"
   ]
  },
  {
   "cell_type": "code",
   "execution_count": 50,
   "id": "40880897",
   "metadata": {},
   "outputs": [
    {
     "name": "stdout",
     "output_type": "stream",
     "text": [
      "The youngest child is Emil\n"
     ]
    }
   ],
   "source": [
    "def my_function(*kids):\n",
    "  print(\"The youngest child is \" + kids[0])\n",
    "\n",
    "my_function(\"Emil\", \"Tobias\", \"Linus\")"
   ]
  },
  {
   "cell_type": "code",
   "execution_count": 52,
   "id": "f0a6edbd",
   "metadata": {},
   "outputs": [
    {
     "name": "stdout",
     "output_type": "stream",
     "text": [
      "His last name is Tobias\n"
     ]
    }
   ],
   "source": [
    "def my_function(**kid):\n",
    "  print(\"His last name is \" + kid[\"fname\"])\n",
    "\n",
    "my_function(fname = \"Tobias\", lname = \"Refsnes\")"
   ]
  },
  {
   "cell_type": "code",
   "execution_count": 55,
   "id": "24334451",
   "metadata": {},
   "outputs": [
    {
     "name": "stdout",
     "output_type": "stream",
     "text": [
      "3\n"
     ]
    }
   ],
   "source": [
    "def fun(d,a):\n",
    "    return d\n",
    "    sum = d+a\n",
    "ss =fun(3,4)\n",
    "print(ss)"
   ]
  },
  {
   "cell_type": "code",
   "execution_count": 60,
   "id": "c387d016",
   "metadata": {},
   "outputs": [
    {
     "name": "stdout",
     "output_type": "stream",
     "text": [
      "The youngest child is Linus\n",
      "<class 'str'>\n"
     ]
    }
   ],
   "source": [
    "def my_function(*kids):\n",
    "  print(\"The youngest child is \" + kids[2])\n",
    "\n",
    "my_function(\"Emil\", \"Tobias\", \"Linus\")\n",
    "print(type(\"The youngest child is \"))"
   ]
  },
  {
   "cell_type": "code",
   "execution_count": 64,
   "id": "2667e352",
   "metadata": {},
   "outputs": [
    {
     "name": "stdout",
     "output_type": "stream",
     "text": [
      "the name of the player p5\n"
     ]
    }
   ],
   "source": [
    "def play(*players):\n",
    "    print(\"the name of the player \" + players[4])\n",
    "play('p1', 'p2', 'p3', 'p4', 'p5')"
   ]
  },
  {
   "cell_type": "code",
   "execution_count": 8,
   "id": "1f03c6eb",
   "metadata": {},
   "outputs": [
    {
     "name": "stdout",
     "output_type": "stream",
     "text": [
      "the player is li\n"
     ]
    }
   ],
   "source": [
    "def play(**players):\n",
    "    print(\"the player is \"+players['fourth'])\n",
    "    \n",
    "play(first='me', second= 'yu', third = 'kim', fourth = 'li')\n"
   ]
  },
  {
   "cell_type": "code",
   "execution_count": 16,
   "id": "211caa80",
   "metadata": {},
   "outputs": [],
   "source": [
    "# x = 5 means that take the value of five and assigne it to x, for example x is a box and 5 is value so take this value of 5 and put it into the box whose name is x\n",
    "# now again if i assign 10 to x it means that the previous value is garbaged and the new value is assigned to x\n",
    "x=5\n",
    "x\n",
    "x=10\n",
    "x\n",
    "y = 'sohail'"
   ]
  },
  {
   "cell_type": "code",
   "execution_count": 4,
   "id": "4b817463",
   "metadata": {},
   "outputs": [
    {
     "data": {
      "text/plain": [
       "1"
      ]
     },
     "execution_count": 4,
     "metadata": {},
     "output_type": "execute_result"
    }
   ],
   "source": [
    "x=9\n",
    "y=10\n",
    "y%x"
   ]
  },
  {
   "cell_type": "code",
   "execution_count": 104,
   "id": "c84e0f9d",
   "metadata": {},
   "outputs": [
    {
     "name": "stdout",
     "output_type": "stream",
     "text": [
      "8\n",
      "2\n"
     ]
    },
    {
     "data": {
      "text/plain": [
       "5"
      ]
     },
     "execution_count": 104,
     "metadata": {},
     "output_type": "execute_result"
    }
   ],
   "source": [
    "import numpy as np\n",
    "arr = np.array([[1, 2, 3, 4], [5, 6, 7, 8]])\n",
    "x  = [1,2,3,4,5]\n",
    "print(np.size(arr))\n",
    "print(len(arr))\n",
    "len(x)"
   ]
  },
  {
   "cell_type": "code",
   "execution_count": 22,
   "id": "a87fe6bd",
   "metadata": {},
   "outputs": [
    {
     "data": {
      "text/plain": [
       "8"
      ]
     },
     "execution_count": 22,
     "metadata": {},
     "output_type": "execute_result"
    }
   ],
   "source": [
    "def cube(x):\n",
    "   r=x**3\n",
    "   return r\n",
    "cube(2)"
   ]
  },
  {
   "cell_type": "code",
   "execution_count": 240,
   "id": "522abd46",
   "metadata": {},
   "outputs": [
    {
     "data": {
      "text/plain": [
       "5"
      ]
     },
     "execution_count": 240,
     "metadata": {},
     "output_type": "execute_result"
    }
   ],
   "source": [
    "# Python program to \n",
    "# demonstrate return statement \n",
    "\n",
    "def add(a, b):\n",
    "    r = a+b\n",
    "    return r\n",
    "add(2, 3)"
   ]
  },
  {
   "cell_type": "code",
   "execution_count": 57,
   "id": "58113805",
   "metadata": {},
   "outputs": [
    {
     "data": {
      "text/plain": [
       "('strings', 20)"
      ]
     },
     "execution_count": 57,
     "metadata": {},
     "output_type": "execute_result"
    }
   ],
   "source": [
    "def fun():\n",
    "    str = \"strings\"\n",
    "    x = 20\n",
    "    return str, x\n",
    "fun()"
   ]
  },
  {
   "cell_type": "code",
   "execution_count": 56,
   "id": "b1e33afc",
   "metadata": {},
   "outputs": [
    {
     "data": {
      "text/plain": [
       "('this is string', 20)"
      ]
     },
     "execution_count": 56,
     "metadata": {},
     "output_type": "execute_result"
    }
   ],
   "source": [
    "def fun(): \n",
    "    str = \"this is string\"\n",
    "    x = 20\n",
    "    return str, x\n",
    "fun()"
   ]
  },
  {
   "cell_type": "code",
   "execution_count": 63,
   "id": "e1fa46f1",
   "metadata": {},
   "outputs": [
    {
     "name": "stdout",
     "output_type": "stream",
     "text": [
      "{'str': 'dic', 'x': 20}\n"
     ]
    },
    {
     "data": {
      "text/plain": [
       "1414363198464"
      ]
     },
     "execution_count": 63,
     "metadata": {},
     "output_type": "execute_result"
    }
   ],
   "source": [
    "def fun(): \n",
    "    d = dict();  \n",
    "    d['str'] = \"dic\"\n",
    "    d['x']   = 20\n",
    "    return d \n",
    "xx=fun() \n",
    "print(xx)\n",
    "type(xx)\n",
    "len(xx)\n",
    "id(xx)"
   ]
  },
  {
   "cell_type": "code",
   "execution_count": 72,
   "id": "4a0bc82e",
   "metadata": {},
   "outputs": [
    {
     "data": {
      "text/plain": [
       "100"
      ]
     },
     "execution_count": 72,
     "metadata": {},
     "output_type": "execute_result"
    }
   ],
   "source": [
    "global_var = 100\n",
    "\n",
    "def another_function():\n",
    "    return global_var  # Accessing the global variable\n",
    "another_function()\n",
    "# the region where the veriable is known as callad the scope of the veriable\n",
    "# the life time of the veriable means that the duration for which the veriable exists in the memory"
   ]
  },
  {
   "cell_type": "code",
   "execution_count": 73,
   "id": "cb79f785",
   "metadata": {},
   "outputs": [
    {
     "name": "stdout",
     "output_type": "stream",
     "text": [
      "Barza is my daught\n",
      "Barza is my daught\n",
      "Barza is my daught\n",
      "Barza is my daught\n",
      "Barza is my daught\n"
     ]
    }
   ],
   "source": [
    "for i in range(5):\n",
    "    print(\"Barza is my daught\")"
   ]
  },
  {
   "cell_type": "code",
   "execution_count": 79,
   "id": "f60435d3",
   "metadata": {},
   "outputs": [
    {
     "name": "stdout",
     "output_type": "stream",
     "text": [
      "0 is even.\n",
      "1 is odd.\n",
      "2 is even.\n",
      "3 is odd.\n",
      "4 is even.\n",
      "5 is odd.\n",
      "6 is even.\n",
      "7 is odd.\n",
      "8 is even.\n",
      "9 is odd.\n"
     ]
    }
   ],
   "source": [
    "for i in range(10):\n",
    "    if i % 2 == 0:\n",
    "        print(f\"{i} is even.\")\n",
    "    else:\n",
    "        print(f\"{i} is odd.\")"
   ]
  },
  {
   "cell_type": "code",
   "execution_count": 86,
   "id": "e2c14da6",
   "metadata": {},
   "outputs": [
    {
     "name": "stdout",
     "output_type": "stream",
     "text": [
      "enter num :5\n",
      "num is odd\n"
     ]
    }
   ],
   "source": [
    "num =int(input('enter num :'))\n",
    "if num % 2 == 0 :\n",
    "    print('num is even')\n",
    "else:\n",
    "    print('num is odd')"
   ]
  },
  {
   "cell_type": "code",
   "execution_count": 84,
   "id": "8d91de85",
   "metadata": {},
   "outputs": [
    {
     "name": "stdout",
     "output_type": "stream",
     "text": [
      "10 is even\n",
      "11 is odd\n",
      "12 is even\n",
      "13 is odd\n",
      "14 is even\n"
     ]
    }
   ],
   "source": [
    "for i in range(10,15):\n",
    "    if i % 2 == 0:\n",
    "        print(f'{i} is even')\n",
    "    else:\n",
    "        print(f'{i} is odd')\n",
    "    "
   ]
  },
  {
   "cell_type": "code",
   "execution_count": 90,
   "id": "271dcfa9",
   "metadata": {},
   "outputs": [
    {
     "name": "stdout",
     "output_type": "stream",
     "text": [
      "0 is even\n",
      "2 is even\n",
      "4 is even\n",
      "6 is even\n",
      "8 is even\n"
     ]
    }
   ],
   "source": [
    "def nature():\n",
    "    for i in range(9):\n",
    "        if i % 2 ==0:\n",
    "            print(f'{i} is even')\n",
    "            \n",
    "nature()"
   ]
  },
  {
   "cell_type": "code",
   "execution_count": 97,
   "id": "7fb914b5",
   "metadata": {},
   "outputs": [
    {
     "data": {
      "text/plain": [
       "(['ali is my friend'], 10)"
      ]
     },
     "execution_count": 97,
     "metadata": {},
     "output_type": "execute_result"
    }
   ],
   "source": [
    "def nature(x):\n",
    "    Str = ['ali is my friend']\n",
    "    return Str, x\n",
    "nature(10)"
   ]
  },
  {
   "cell_type": "code",
   "execution_count": 109,
   "id": "cfdcface",
   "metadata": {},
   "outputs": [
    {
     "data": {
      "text/plain": [
       "10"
      ]
     },
     "execution_count": 109,
     "metadata": {},
     "output_type": "execute_result"
    }
   ],
   "source": [
    "#global variable define outside the function\n",
    "a = 1 \n",
    "def f(): \n",
    "    a = 10\n",
    "    return a\n",
    "f()"
   ]
  },
  {
   "cell_type": "code",
   "execution_count": 142,
   "id": "de3c1d84",
   "metadata": {},
   "outputs": [
    {
     "name": "stdout",
     "output_type": "stream",
     "text": [
      "20\n"
     ]
    },
    {
     "data": {
      "text/plain": [
       "140718246040968"
      ]
     },
     "execution_count": 142,
     "metadata": {},
     "output_type": "execute_result"
    }
   ],
   "source": [
    "# a variable that is defined in function but called outside the function\n",
    "def f():\n",
    "    global a\n",
    "    x = \"variable '\\n' a is global variable\"\n",
    "    return x, a\n",
    "f()\n",
    "print(a)\n",
    "id(a)"
   ]
  },
  {
   "cell_type": "code",
   "execution_count": 147,
   "id": "22c43f55",
   "metadata": {},
   "outputs": [
    {
     "data": {
      "text/plain": [
       "float"
      ]
     },
     "execution_count": 147,
     "metadata": {},
     "output_type": "execute_result"
    }
   ],
   "source": [
    "x = 7\n",
    "x\n",
    "y = 9.3\n",
    "x=4\n",
    "x\n",
    "type(y)"
   ]
  },
  {
   "cell_type": "code",
   "execution_count": 148,
   "id": "f4961091",
   "metadata": {},
   "outputs": [
    {
     "data": {
      "text/plain": [
       "int"
      ]
     },
     "execution_count": 148,
     "metadata": {},
     "output_type": "execute_result"
    }
   ],
   "source": [
    "type(x)"
   ]
  },
  {
   "cell_type": "code",
   "execution_count": 149,
   "id": "053ad464",
   "metadata": {},
   "outputs": [
    {
     "data": {
      "text/plain": [
       "float"
      ]
     },
     "execution_count": 149,
     "metadata": {},
     "output_type": "execute_result"
    }
   ],
   "source": [
    "type(y)"
   ]
  },
  {
   "cell_type": "code",
   "execution_count": 155,
   "id": "56008e50",
   "metadata": {},
   "outputs": [
    {
     "data": {
      "text/plain": [
       "('ali', 3)"
      ]
     },
     "execution_count": 155,
     "metadata": {},
     "output_type": "execute_result"
    }
   ],
   "source": [
    "def f(str, x):\n",
    "    return str, x\n",
    "f('ali', 3)"
   ]
  },
  {
   "cell_type": "code",
   "execution_count": 157,
   "id": "ca267501",
   "metadata": {},
   "outputs": [
    {
     "name": "stdout",
     "output_type": "stream",
     "text": [
      "['geeksforgeeks']\n"
     ]
    }
   ],
   "source": [
    "print(str.split('-'))"
   ]
  },
  {
   "cell_type": "code",
   "execution_count": 170,
   "id": "bbd515dc",
   "metadata": {},
   "outputs": [
    {
     "name": "stdout",
     "output_type": "stream",
     "text": [
      "['ali', 'is', 'my', 'frnd']\n"
     ]
    }
   ],
   "source": [
    "x = 'ali is my frnd'\n",
    "print(x.split())"
   ]
  },
  {
   "cell_type": "code",
   "execution_count": 164,
   "id": "445c4718",
   "metadata": {},
   "outputs": [
    {
     "name": "stdout",
     "output_type": "stream",
     "text": [
      "['geeks', 'for', 'geeks']\n"
     ]
    }
   ],
   "source": [
    "text = 'geeks for geeks'\n",
    "  \n",
    "# Splits at space \n",
    "print(text.split())"
   ]
  },
  {
   "cell_type": "code",
   "execution_count": 87,
   "id": "a4b85980",
   "metadata": {},
   "outputs": [
    {
     "name": "stdout",
     "output_type": "stream",
     "text": [
      "true\n"
     ]
    }
   ],
   "source": [
    "a=4\n",
    "b=8\n",
    "c=7\n",
    "if(a!=b):\n",
    "    print(\"true\")\n",
    "else:\n",
    "    print('false')"
   ]
  },
  {
   "cell_type": "raw",
   "id": "78b5b26b",
   "metadata": {},
   "source": [
    "ord('a')"
   ]
  },
  {
   "cell_type": "code",
   "execution_count": 88,
   "id": "1b5afa31",
   "metadata": {},
   "outputs": [
    {
     "name": "stdout",
     "output_type": "stream",
     "text": [
      "hello\n"
     ]
    }
   ],
   "source": [
    "if(a<b or b<c):\n",
    "    print(\"hello\")\n",
    "else:\n",
    "    print('sorry')"
   ]
  },
  {
   "cell_type": "code",
   "execution_count": 89,
   "id": "1358f814",
   "metadata": {},
   "outputs": [
    {
     "name": "stdout",
     "output_type": "stream",
     "text": [
      "55\n"
     ]
    }
   ],
   "source": [
    "sum = 0\n",
    "n =1\n",
    "while(n<=10):\n",
    "    sum = sum + n\n",
    "    n = n + 1\n",
    "print(sum)"
   ]
  },
  {
   "cell_type": "code",
   "execution_count": 90,
   "id": "d461d3a2",
   "metadata": {},
   "outputs": [
    {
     "data": {
      "text/plain": [
       "55"
      ]
     },
     "execution_count": 90,
     "metadata": {},
     "output_type": "execute_result"
    }
   ],
   "source": [
    "1+2+3+4+5+6+7+8+9+10"
   ]
  },
  {
   "cell_type": "code",
   "execution_count": 91,
   "id": "fcf09edd",
   "metadata": {},
   "outputs": [
    {
     "name": "stdout",
     "output_type": "stream",
     "text": [
      "          *\n",
      "         ***\n",
      "        *****\n",
      "       *******\n",
      "      *********\n",
      "     ***********\n",
      "    *************\n",
      "   ***************\n",
      "  *****************\n"
     ]
    }
   ],
   "source": [
    "for i in range(h):\n",
    "    print(\" \" * (h - i), \"*\" * (2*i + 1))"
   ]
  },
  {
   "cell_type": "code",
   "execution_count": 92,
   "id": "7cfc77ca",
   "metadata": {},
   "outputs": [
    {
     "name": "stdout",
     "output_type": "stream",
     "text": [
      "   ***************\n",
      "    *************\n",
      "     ***********\n",
      "      *********\n",
      "       *******\n",
      "        *****\n",
      "         ***\n",
      "          *\n"
     ]
    }
   ],
   "source": [
    "for i in range(h - 2, -1, -1):\n",
    "    print(\" \" * (h - i), \"*\" * (2*i + 1))"
   ]
  },
  {
   "cell_type": "code",
   "execution_count": 93,
   "id": "4aded001",
   "metadata": {},
   "outputs": [
    {
     "name": "stdout",
     "output_type": "stream",
     "text": [
      "          *\n",
      "         ***\n",
      "        *****\n",
      "       *******\n",
      "      *********\n",
      "     ***********\n",
      "    *************\n",
      "   ***************\n",
      "  *****************\n",
      "   ***************\n",
      "    *************\n",
      "     ***********\n",
      "      *********\n",
      "       *******\n",
      "        *****\n",
      "         ***\n",
      "          *\n"
     ]
    }
   ],
   "source": [
    "for i in range(h):\n",
    "    print(\" \" * (h - i), \"*\" * (2*i + 1))\n",
    "for i in range(h - 2, -1, -1):\n",
    "    print(\" \" * (h - i), \"*\" * (2*i + 1))"
   ]
  },
  {
   "cell_type": "code",
   "execution_count": null,
   "id": "2c91eaeb",
   "metadata": {},
   "outputs": [],
   "source": []
  },
  {
   "cell_type": "code",
   "execution_count": 96,
   "id": "3296e6ae",
   "metadata": {},
   "outputs": [
    {
     "name": "stdout",
     "output_type": "stream",
     "text": [
      "two\n"
     ]
    }
   ],
   "source": [
    "# This code runs only in python 3.10 or above versions\n",
    "def number_to_string(argument):\n",
    "    match argument:\n",
    "        case 0:\n",
    "            return \"zero\"\n",
    "        case 1:\n",
    "            return \"one\"\n",
    "        case 2:\n",
    "            return \"two\"\n",
    "        case default:\n",
    "            return \"something\"\n",
    "\n",
    "\n",
    "head = number_to_string(2)\n",
    "print(head)\n"
   ]
  },
  {
   "cell_type": "code",
   "execution_count": 209,
   "id": "d814a52a",
   "metadata": {},
   "outputs": [
    {
     "data": {
      "text/plain": [
       "140718246040488"
      ]
     },
     "execution_count": 209,
     "metadata": {},
     "output_type": "execute_result"
    }
   ],
   "source": [
    "x=5\n",
    "id(x)"
   ]
  },
  {
   "cell_type": "code",
   "execution_count": 228,
   "id": "c798377c",
   "metadata": {},
   "outputs": [
    {
     "name": "stdout",
     "output_type": "stream",
     "text": [
      "The factorial of 23 is : 720\n"
     ]
    }
   ],
   "source": [
    "n = 6\n",
    "fact = 1\n",
    "\n",
    "for i in range(1, n+1):\n",
    "    fact = fact * i\n",
    "print(\"The factorial of 23 is : \", end=\"\")\n",
    "print(fact)"
   ]
  },
  {
   "cell_type": "code",
   "execution_count": 231,
   "id": "a3a4865e",
   "metadata": {},
   "outputs": [
    {
     "name": "stdout",
     "output_type": "stream",
     "text": [
      "fact is 3628800\n"
     ]
    }
   ],
   "source": [
    "n = 10\n",
    "fact = 1\n",
    "\n",
    "for i in range(1, n+1):\n",
    "    fact = fact * i    \n",
    "print('fact is ', end=\"\")\n",
    "print(fact)"
   ]
  },
  {
   "cell_type": "code",
   "execution_count": 97,
   "id": "bc81fdf4",
   "metadata": {},
   "outputs": [
    {
     "data": {
      "text/plain": [
       "'SOHAIL MUHAMMAD'"
      ]
     },
     "execution_count": 97,
     "metadata": {},
     "output_type": "execute_result"
    }
   ],
   "source": [
    "text = 'sohail muhammad'\n",
    "text.upper()"
   ]
  },
  {
   "cell_type": "code",
   "execution_count": 98,
   "id": "41470f50",
   "metadata": {},
   "outputs": [
    {
     "data": {
      "text/plain": [
       "'SOHAIL MUHAMMAD'"
      ]
     },
     "execution_count": 98,
     "metadata": {},
     "output_type": "execute_result"
    }
   ],
   "source": [
    "text.swapcase()"
   ]
  },
  {
   "cell_type": "code",
   "execution_count": 99,
   "id": "aed9cb66",
   "metadata": {},
   "outputs": [
    {
     "data": {
      "text/plain": [
       "'Sohail muhammad'"
      ]
     },
     "execution_count": 99,
     "metadata": {},
     "output_type": "execute_result"
    }
   ],
   "source": [
    "text.capitalize()"
   ]
  },
  {
   "cell_type": "code",
   "execution_count": 100,
   "id": "91ecd3d3",
   "metadata": {},
   "outputs": [
    {
     "data": {
      "text/plain": [
       "'Sohail Muhammad'"
      ]
     },
     "execution_count": 100,
     "metadata": {},
     "output_type": "execute_result"
    }
   ],
   "source": [
    "text.title()"
   ]
  },
  {
   "cell_type": "code",
   "execution_count": 237,
   "id": "bb957bc5",
   "metadata": {},
   "outputs": [
    {
     "name": "stdout",
     "output_type": "stream",
     "text": [
      "# Type Level\n",
      "\n",
      "0 0\n",
      "\n",
      "1 1\n",
      "\n",
      "1 1\n",
      "\n",
      "3 2\n",
      "\n",
      "2 2\n",
      "\n",
      "2 2\n",
      "\n",
      "1 2\n",
      "\n",
      "3 3\n",
      "\n",
      "3 3\n",
      "\n",
      "3 3\n",
      "\n",
      "3 3\n",
      "\n",
      "3 3\n",
      "\n",
      "3 3\n",
      "\n",
      "3 3\n",
      "\n",
      "3 3\n",
      "\n"
     ]
    }
   ],
   "source": [
    "# a file named \"geek\", will be opened with the reading mode.\n",
    "file = open('G:/Dr_Ahmad_and_Dr_Subhan_RA_ship/ami-game-master/case_study_1/node_types.txt', 'r')\n",
    "\n",
    "# This will print every line one by one in the file\n",
    "for each in file:\n",
    "\tprint (each)\n"
   ]
  },
  {
   "cell_type": "code",
   "execution_count": 333,
   "id": "1984f1f2",
   "metadata": {},
   "outputs": [
    {
     "name": "stdout",
     "output_type": "stream",
     "text": [
      "57.625\n",
      "57.625\n"
     ]
    }
   ],
   "source": [
    "def f(a,b,c):\n",
    "    math = a+(b*b)*c\n",
    "    return math\n",
    "print(f(2.5, 3.5, 4.5))\n",
    "print(res)"
   ]
  },
  {
   "cell_type": "code",
   "execution_count": 263,
   "id": "0c6da3d4",
   "metadata": {},
   "outputs": [
    {
     "name": "stdout",
     "output_type": "stream",
     "text": [
      "452\n"
     ]
    }
   ],
   "source": [
    "def dmas(x,y,z):\n",
    "    math = a+(b*b)*c\n",
    "    return math\n",
    "\n",
    "result = dmas(3.5, 4.5, 5.5)\n",
    "print(result)"
   ]
  },
  {
   "cell_type": "code",
   "execution_count": 267,
   "id": "11468eb0",
   "metadata": {},
   "outputs": [
    {
     "name": "stdout",
     "output_type": "stream",
     "text": [
      "373\n"
     ]
    }
   ],
   "source": [
    "def K(C, zk):\n",
    "    kal = C+zk\n",
    "    return kal\n",
    "temp = K(100,273)\n",
    "print(temp)"
   ]
  },
  {
   "cell_type": "code",
   "execution_count": 285,
   "id": "d87f97f7",
   "metadata": {},
   "outputs": [
    {
     "name": "stdout",
     "output_type": "stream",
     "text": [
      "pass\n",
      "99\n"
     ]
    }
   ],
   "source": [
    "class Student:\n",
    "    def __init__(self, marks):\n",
    "        self.marks = marks\n",
    "        if marks>=60:\n",
    "            print(\"pass\")\n",
    "        else:\n",
    "            print('fail')\n",
    "std = Student(99) \n",
    "print(std.marks)\n",
    "    "
   ]
  },
  {
   "cell_type": "code",
   "execution_count": 307,
   "id": "ad4a59f3",
   "metadata": {},
   "outputs": [
    {
     "name": "stdout",
     "output_type": "stream",
     "text": [
      "Result = 57.625\n"
     ]
    }
   ],
   "source": [
    "class Math:\n",
    "    def __init__(self, a, b, c):\n",
    "        self.a = a\n",
    "        self.b = b\n",
    "        self.c = c\n",
    "    def cal(self):\n",
    "        math = self.a+(self.b**2)*self.c\n",
    "        return math\n",
    "result = Math(2.5, 3.5, 4.5)\n",
    "result.cal()\n",
    "print('Result =', result.cal())"
   ]
  },
  {
   "cell_type": "code",
   "execution_count": 308,
   "id": "73db3268",
   "metadata": {},
   "outputs": [
    {
     "data": {
      "text/plain": [
       "[1, 1, 2, 2, 3, 4, 4, 4, 5]"
      ]
     },
     "execution_count": 308,
     "metadata": {},
     "output_type": "execute_result"
    }
   ],
   "source": [
    "n = [1,1,2,2,3,4,4,4,5]\n",
    "n"
   ]
  },
  {
   "cell_type": "code",
   "execution_count": 309,
   "id": "215b9aa4",
   "metadata": {},
   "outputs": [
    {
     "data": {
      "text/plain": [
       "list"
      ]
     },
     "execution_count": 309,
     "metadata": {},
     "output_type": "execute_result"
    }
   ],
   "source": [
    "type(n)"
   ]
  },
  {
   "cell_type": "code",
   "execution_count": 101,
   "id": "c01dafd2",
   "metadata": {},
   "outputs": [
    {
     "data": {
      "text/plain": [
       "[1, 2, 3, 4, 5, 6]"
      ]
     },
     "execution_count": 101,
     "metadata": {},
     "output_type": "execute_result"
    }
   ],
   "source": [
    "list"
   ]
  },
  {
   "cell_type": "code",
   "execution_count": 324,
   "id": "c8547001",
   "metadata": {},
   "outputs": [
    {
     "name": "stdout",
     "output_type": "stream",
     "text": [
      "this is general class\n",
      "hhhhhh\n",
      "this is dog specific class\n",
      "hhhhhh\n"
     ]
    }
   ],
   "source": [
    "class Animal:\n",
    "    def gen(self):\n",
    "        print('this is general class')\n",
    "    def sound(self):\n",
    "        print('bao')\n",
    "class Dog(Animal):\n",
    "    def dog(self):\n",
    "        print('this is dog specific class')\n",
    "    def sound(self):\n",
    "        print('hhhhhh')\n",
    "ob = Dog()\n",
    "ob.gen()\n",
    "ob.sound()\n",
    "ob.dog()\n",
    "ob.sound()\n",
    "    \n",
    "    "
   ]
  },
  {
   "cell_type": "code",
   "execution_count": 120,
   "id": "b35ccd23",
   "metadata": {},
   "outputs": [
    {
     "name": "stdout",
     "output_type": "stream",
     "text": [
      "This is a general class\n",
      "This is a dog-specific class\n",
      "Woof\n",
      "Bao\n"
     ]
    }
   ],
   "source": [
    "class Animal:\n",
    "    def gen(self):\n",
    "        print('This is a general class')\n",
    "    def sound(self):\n",
    "        print('Bao')\n",
    "\n",
    "class Dog(Animal):\n",
    "    def dog(self):\n",
    "        print('This is a dog-specific class')\n",
    "    def sound(self):\n",
    "        print('Woof')\n",
    "        super().sound()\n",
    "\n",
    "ob = Dog()\n",
    "ob.gen()\n",
    "ob.dog()\n",
    "ob.sound()"
   ]
  },
  {
   "cell_type": "code",
   "execution_count": 122,
   "id": "f3904859",
   "metadata": {},
   "outputs": [
    {
     "name": "stdout",
     "output_type": "stream",
     "text": [
      "Woof!\n",
      "Meow!\n"
     ]
    }
   ],
   "source": [
    "class Animal:\n",
    "    def speak(self):\n",
    "        pass\n",
    "\n",
    "class Dog(Animal):\n",
    "    def speak(self):\n",
    "        return \"Woof!\"\n",
    "\n",
    "class Cat(Animal):\n",
    "    def speak(self):\n",
    "        return \"Meow!\"\n",
    "        super().speak()\n",
    "\n",
    "def animal_sound(animal):\n",
    "    return animal.speak()\n",
    "\n",
    "dog = Dog()\n",
    "cat = Cat()\n",
    "cat.speak()\n",
    "cat.speak()\n",
    "\n",
    "print(animal_sound(dog))  # Outputs: \"Woof!\"\n",
    "print(animal_sound(cat))  # Outputs: \"Meow!\"\n"
   ]
  },
  {
   "cell_type": "code",
   "execution_count": 332,
   "id": "237b54d5",
   "metadata": {},
   "outputs": [
    {
     "name": "stdout",
     "output_type": "stream",
     "text": [
      "hi the value of x is 200\n"
     ]
    }
   ],
   "source": [
    "from string import Template\n",
    "t = Template('hi the value of x is $x')\n",
    "print(t.substitute({'x':200}))"
   ]
  },
  {
   "cell_type": "code",
   "execution_count": 108,
   "id": "0e294f7c",
   "metadata": {},
   "outputs": [
    {
     "name": "stdout",
     "output_type": "stream",
     "text": [
      "hello dear 5\n"
     ]
    }
   ],
   "source": [
    "from string import Template\n",
    "s = Template(\"hello dear $s\")\n",
    "print(s.substitute({'s':5}))"
   ]
  },
  {
   "cell_type": "code",
   "execution_count": 109,
   "id": "abefa5b8",
   "metadata": {},
   "outputs": [
    {
     "name": "stdout",
     "output_type": "stream",
     "text": [
      "please calculate these variable for me : 194.675\n"
     ]
    }
   ],
   "source": [
    "def calc(a,b,c):\n",
    "    math = a+(b**2)*c\n",
    "    return math\n",
    "def func():\n",
    "    pass\n",
    "exp = calc(2.3,4.5, 9.5)\n",
    "print(\"please calculate these variable for me :\", exp) \n",
    "    "
   ]
  },
  {
   "cell_type": "code",
   "execution_count": 21,
   "id": "0cefd783",
   "metadata": {},
   "outputs": [
    {
     "name": "stdout",
     "output_type": "stream",
     "text": [
      "201.125\n"
     ]
    }
   ],
   "source": [
    "def first_function(a,b,c):\n",
    "    math = a+(b*b)*c\n",
    "    return math\n",
    "\n",
    "def second_function():\n",
    "    pass\n",
    "#i=5\n",
    "#j=2\n",
    "#k=3\n",
    "p=first_function(4.5,5.5,6.5)\n",
    "print(p)"
   ]
  },
  {
   "cell_type": "code",
   "execution_count": 29,
   "id": "ff7b49a4",
   "metadata": {},
   "outputs": [
    {
     "name": "stdout",
     "output_type": "stream",
     "text": [
      "[1, 2, 3, 4, 5]\n"
     ]
    },
    {
     "data": {
      "text/plain": [
       "list"
      ]
     },
     "execution_count": 29,
     "metadata": {},
     "output_type": "execute_result"
    }
   ],
   "source": [
    "def first_function(mylist):\n",
    "    return mylist\n",
    "\n",
    "def second_function():\n",
    "    pass\n",
    "p = first_function([1,2,3,4,5])\n",
    "print(p)\n",
    "type(p)"
   ]
  },
  {
   "cell_type": "code",
   "execution_count": 144,
   "id": "7c93b25f",
   "metadata": {},
   "outputs": [
    {
     "name": "stdout",
     "output_type": "stream",
     "text": [
      "11\n"
     ]
    }
   ],
   "source": [
    "def first_function(a, b):\n",
    "    a = 5\n",
    "    b =6\n",
    "    sum = a + b\n",
    "    return sum\n",
    "\n",
    "def second_function():\n",
    "    pass\n",
    "    # This function does not do anything in your code\n",
    "\n",
    "#j = 2\n",
    "#k = 3\n",
    "p = first_function(5, 9)\n",
    "print(p)\n"
   ]
  },
  {
   "cell_type": "code",
   "execution_count": 145,
   "id": "6233acf3",
   "metadata": {},
   "outputs": [
    {
     "name": "stdout",
     "output_type": "stream",
     "text": [
      "[1, 2, 3, 4, 5]\n",
      "15\n"
     ]
    }
   ],
   "source": [
    "def first_function(mylist):\n",
    "    return mylist\n",
    "\n",
    "def second_function(mylist):\n",
    "    result = sum(mylist)\n",
    "    return result\n",
    "\n",
    "my_list = [1, 2, 3, 4, 5]\n",
    "p = first_function(my_list)\n",
    "print(p)\n",
    "print(result)  "
   ]
  },
  {
   "cell_type": "code",
   "execution_count": 146,
   "id": "56955aff",
   "metadata": {},
   "outputs": [
    {
     "name": "stdout",
     "output_type": "stream",
     "text": [
      "7\n"
     ]
    }
   ],
   "source": [
    "def fun(x,y):\n",
    "    add = x+y\n",
    "    return add\n",
    "x = 2\n",
    "y = 5\n",
    "m = fun(x,y)\n",
    "print(m)"
   ]
  },
  {
   "cell_type": "code",
   "execution_count": null,
   "id": "90231ca1",
   "metadata": {},
   "outputs": [],
   "source": []
  }
 ],
 "metadata": {
  "kernelspec": {
   "display_name": "Python 3 (ipykernel)",
   "language": "python",
   "name": "python3"
  },
  "language_info": {
   "codemirror_mode": {
    "name": "ipython",
    "version": 3
   },
   "file_extension": ".py",
   "mimetype": "text/x-python",
   "name": "python",
   "nbconvert_exporter": "python",
   "pygments_lexer": "ipython3",
   "version": "3.11.5"
  }
 },
 "nbformat": 4,
 "nbformat_minor": 5
}
