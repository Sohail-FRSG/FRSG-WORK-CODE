{
 "cells": [
  {
   "cell_type": "code",
   "execution_count": 4,
   "id": "cae7b197",
   "metadata": {},
   "outputs": [
    {
     "name": "stdout",
     "output_type": "stream",
     "text": [
      "count of a node\n",
      "Number of nodes in the tree: 11\n"
     ]
    }
   ],
   "source": [
    "class Tree_Node:\n",
    "    def __init__(self, value):\n",
    "        self.left = None\n",
    "        self.data = value\n",
    "        self.right = None\n",
    "class Tree:\n",
    "    def __init(self):\n",
    "        self.root = None\n",
    "    def create_node(self, data):\n",
    "        return Tree_Node(data)\n",
    "    def insert(self, node, data):\n",
    "        if node is None:\n",
    "            return self.create_node(data)\n",
    "        if data < node.data:\n",
    "            node.left = self.insert(node.left, data)\n",
    "        else:\n",
    "            node.right = self.insert(node.right, data)\n",
    "        return node\n",
    "    def count_nodes(self, node):\n",
    "        if node is None:\n",
    "            return 0\n",
    "        return 1 + self.count_nodes(node.left) + self.count_nodes(node.right)\n",
    "     \n",
    "    \n",
    "data = [2,3,4,5,1,6,7,8,4,9,2]            \n",
    "obj = Tree()\n",
    "root = obj.create_node(8)\n",
    "root = None  # Initialize the root as None\n",
    "\n",
    "# Insert data from the list into the tree\n",
    "for value in data:\n",
    "    root = obj.insert(root, value)\n",
    "# print(obj.display(root))\n",
    "\n",
    "print('count of a node')    \n",
    "node_count = obj.count_nodes(root)\n",
    "print(f\"Number of nodes in the tree: {node_count}\")"
   ]
  },
  {
   "cell_type": "code",
   "execution_count": null,
   "id": "d207ba31",
   "metadata": {},
   "outputs": [],
   "source": []
  }
 ],
 "metadata": {
  "kernelspec": {
   "display_name": "Python 3 (ipykernel)",
   "language": "python",
   "name": "python3"
  },
  "language_info": {
   "codemirror_mode": {
    "name": "ipython",
    "version": 3
   },
   "file_extension": ".py",
   "mimetype": "text/x-python",
   "name": "python",
   "nbconvert_exporter": "python",
   "pygments_lexer": "ipython3",
   "version": "3.11.5"
  }
 },
 "nbformat": 4,
 "nbformat_minor": 5
}
