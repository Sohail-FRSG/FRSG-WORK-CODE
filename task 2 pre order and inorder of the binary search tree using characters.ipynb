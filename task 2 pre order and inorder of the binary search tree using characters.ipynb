{
 "cells": [
  {
   "cell_type": "code",
   "execution_count": 16,
   "id": "31d56c5b",
   "metadata": {},
   "outputs": [
    {
     "name": "stdout",
     "output_type": "stream",
     "text": [
      "A B C D E F G H K P Q R \n",
      "\n",
      "G B A C F D E Q P H R "
     ]
    }
   ],
   "source": [
    "class TreeNode:\n",
    "    def __init__(self, key):\n",
    "        self.key = key\n",
    "        self.left = None\n",
    "        self.right = None\n",
    "\n",
    "def insert(root, key):\n",
    "    if root is None:\n",
    "        return TreeNode(key)\n",
    "    \n",
    "    if key < root.key:\n",
    "        root.left = insert(root.left, key)\n",
    "    else:\n",
    "        root.right = insert(root.right, key)\n",
    "    \n",
    "    return root\n",
    "def Pre_order_traversal(node):\n",
    "    if node:\n",
    "        print(node.key, end = ' ')\n",
    "        Pre_order_traversal(node.left)\n",
    "        Pre_order_traversal(node.right)\n",
    "\n",
    "def in_order_traversal(node):\n",
    "    if node:\n",
    "        in_order_traversal(node.left)\n",
    "        print(node.key, end=' ')\n",
    "        in_order_traversal(node.right)\n",
    "    \n",
    "\n",
    "# Inserting alphabet characters into the BST\n",
    "root = None\n",
    "alphabet = \"GBQACFPDERH\"\n",
    "root1 = None\n",
    "Alph = 'QBKCFAGPEDHR'\n",
    "for char in alphabet:\n",
    "    root = insert(root, char)\n",
    "\n",
    "for char in Alph:\n",
    "    root1 = insert(root1, char)\n",
    "# Display the BST using in-order traversal\n",
    "in_order_traversal(root1) \n",
    "print('\\n')\n",
    "Pre_order_traversal(root)"
   ]
  },
  {
   "cell_type": "code",
   "execution_count": null,
   "id": "68f9de7c",
   "metadata": {},
   "outputs": [],
   "source": []
  }
 ],
 "metadata": {
  "kernelspec": {
   "display_name": "Python 3 (ipykernel)",
   "language": "python",
   "name": "python3"
  },
  "language_info": {
   "codemirror_mode": {
    "name": "ipython",
    "version": 3
   },
   "file_extension": ".py",
   "mimetype": "text/x-python",
   "name": "python",
   "nbconvert_exporter": "python",
   "pygments_lexer": "ipython3",
   "version": "3.11.5"
  }
 },
 "nbformat": 4,
 "nbformat_minor": 5
}
