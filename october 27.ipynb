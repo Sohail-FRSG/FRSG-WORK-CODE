{
 "cells": [
  {
   "cell_type": "code",
   "execution_count": 58,
   "id": "d2a33d3f",
   "metadata": {},
   "outputs": [],
   "source": [
    "class Node:\n",
    "    def __init__(self, value):\n",
    "        self.left = None\n",
    "        self.data = value\n",
    "        self.right = None\n",
    "class Tree:\n",
    "#     data = [5, 2, 4, 10, 12, 7, 16, 3,19]\n",
    "    def createNode(self, data):\n",
    "        return Node(data)\n",
    "    def insert(self, node, data):\n",
    "        if Node is None:\n",
    "            return self.createNode(data)\n",
    "        if data < node.data:\n",
    "            node.left = self.insert(node.left, data)\n",
    "        else:\n",
    "            node.right = self.insert(node.right, data)"
   ]
  },
  {
   "cell_type": "code",
   "execution_count": 59,
   "id": "acce00bc",
   "metadata": {},
   "outputs": [],
   "source": [
    "def travers_inorder(self, data):\n",
    "    self.travers_inorder(root.left, data)\n",
    "    print(root.data)\n",
    "    self.traverse_inorder(root.right, data)"
   ]
  },
  {
   "cell_type": "code",
   "execution_count": 60,
   "id": "2d860d12",
   "metadata": {},
   "outputs": [],
   "source": [
    "def traverse_preorder(self, data):\n",
    "    print(root.data)\n",
    "    traverse_preorder(root.left, data)\n",
    "    traverse_preorder(root.right, data)"
   ]
  },
  {
   "cell_type": "code",
   "execution_count": 61,
   "id": "37e34172",
   "metadata": {},
   "outputs": [],
   "source": [
    "def traverse_postorder(self, data):\n",
    "    traverse_postorder(root.left, dat)\n",
    "    traverse_postorder(root.right, data)\n",
    "    print(root.data)"
   ]
  },
  {
   "cell_type": "code",
   "execution_count": 62,
   "id": "0e9fa544",
   "metadata": {},
   "outputs": [],
   "source": [
    "# def delete(self, root, key):\n",
    "#     if root is None:\n",
    "#         return\n",
    "#     if key < root.data:\n",
    "#         root.left = self.delete(root.left, key)\n",
    "#     elif key > root.data:\n",
    "#         root.right = self.delete(root.right, key)\n",
    "#     else:\n",
    "#         if root.left is None:\n",
    "#             temp = root.right\n",
    "#             root = None\n",
    "#             return temp\n",
    "#         elif root.right is None:\n",
    "#             temp = root.left\n",
    "#             root = None\n",
    "#             return temp\n",
    "#         temp = self.min_value_node(root.right)\n",
    "#         root.data = temp.data\n",
    "#         temp.right = self.delete(root.right, temp.data)\n",
    "#         return root\n",
    "def delete(self, root, key):\n",
    "    if root is None:\n",
    "        return\n",
    "    if key < root.data:\n",
    "        root.left = self.delete(root.left, key)\n",
    "    elif key> root.data:\n",
    "        root.right = self.delte(root.right, key)\n",
    "    else:\n",
    "        if root.left is None:\n",
    "            temp = root.right\n",
    "            root = None\n",
    "            return temp\n",
    "        elif root.right is None:\n",
    "            temp = root.left\n",
    "            root = None\n",
    "            return temp\n",
    "        temp = self.min_value_node(root.right)\n",
    "        root.data = self.data\n",
    "        temp.right = self.delete(root.right, temp.data)\n",
    "        return root"
   ]
  },
  {
   "cell_type": "code",
   "execution_count": 63,
   "id": "9201fafb",
   "metadata": {},
   "outputs": [],
   "source": [
    "# def min_value_node(self, node):\n",
    "#     current = node\n",
    "#     while current.left is not None:\n",
    "#         current = current.left\n",
    "#     return current\n",
    "def min_value_node(self, node):\n",
    "    current = node\n",
    "    while current.left is not None:\n",
    "        current = current.left\n",
    "    return current"
   ]
  },
  {
   "cell_type": "code",
   "execution_count": 64,
   "id": "a6040428",
   "metadata": {},
   "outputs": [],
   "source": [
    "# def height(self, root):\n",
    "#      if root is None:\n",
    "#         return -1\n",
    "#      return  max(self.height(root.left), self.height(root.right))+1\n",
    "def height(self, root):\n",
    "    if root is None:\n",
    "        return -1\n",
    "    return max(self.height(root.left), self.height(root.roght)) + 1"
   ]
  },
  {
   "cell_type": "code",
   "execution_count": null,
   "id": "ed6f61e2",
   "metadata": {},
   "outputs": [],
   "source": []
  },
  {
   "cell_type": "code",
   "execution_count": 68,
   "id": "6fcc7d48",
   "metadata": {},
   "outputs": [],
   "source": [
    "tree = Tree()\n",
    "root = tree.createNode(8)"
   ]
  },
  {
   "cell_type": "code",
   "execution_count": 69,
   "id": "6312806a",
   "metadata": {},
   "outputs": [],
   "source": [
    "root = None"
   ]
  },
  {
   "cell_type": "code",
   "execution_count": 70,
   "id": "afb07af4",
   "metadata": {},
   "outputs": [
    {
     "ename": "AttributeError",
     "evalue": "'NoneType' object has no attribute 'data'",
     "output_type": "error",
     "traceback": [
      "\u001b[1;31m---------------------------------------------------------------------------\u001b[0m",
      "\u001b[1;31mAttributeError\u001b[0m                            Traceback (most recent call last)",
      "Cell \u001b[1;32mIn[70], line 2\u001b[0m\n\u001b[0;32m      1\u001b[0m \u001b[38;5;28;01mfor\u001b[39;00m value \u001b[38;5;129;01min\u001b[39;00m data:\n\u001b[1;32m----> 2\u001b[0m     root \u001b[38;5;241m=\u001b[39m tree\u001b[38;5;241m.\u001b[39minsert(root, value)\n\u001b[0;32m      3\u001b[0m \u001b[38;5;28mprint\u001b[39m(root\u001b[38;5;241m.\u001b[39mdata)\n",
      "Cell \u001b[1;32mIn[58], line 13\u001b[0m, in \u001b[0;36mTree.insert\u001b[1;34m(self, node, data)\u001b[0m\n\u001b[0;32m     11\u001b[0m \u001b[38;5;28;01mif\u001b[39;00m Node \u001b[38;5;129;01mis\u001b[39;00m \u001b[38;5;28;01mNone\u001b[39;00m:\n\u001b[0;32m     12\u001b[0m     \u001b[38;5;28;01mreturn\u001b[39;00m \u001b[38;5;28mself\u001b[39m\u001b[38;5;241m.\u001b[39mcreateNode(data)\n\u001b[1;32m---> 13\u001b[0m \u001b[38;5;28;01mif\u001b[39;00m data \u001b[38;5;241m<\u001b[39m node\u001b[38;5;241m.\u001b[39mdata:\n\u001b[0;32m     14\u001b[0m     node\u001b[38;5;241m.\u001b[39mleft \u001b[38;5;241m=\u001b[39m \u001b[38;5;28mself\u001b[39m\u001b[38;5;241m.\u001b[39minsert(node\u001b[38;5;241m.\u001b[39mleft, data)\n\u001b[0;32m     15\u001b[0m \u001b[38;5;28;01melse\u001b[39;00m:\n",
      "\u001b[1;31mAttributeError\u001b[0m: 'NoneType' object has no attribute 'data'"
     ]
    }
   ],
   "source": [
    "for value in data:\n",
    "    root = tree.insert(root, value)\n",
    "print(root.data)"
   ]
  },
  {
   "cell_type": "code",
   "execution_count": 73,
   "id": "089d23d9",
   "metadata": {},
   "outputs": [
    {
     "ename": "AttributeError",
     "evalue": "'Tree' object has no attribute 'traverse_postorder'",
     "output_type": "error",
     "traceback": [
      "\u001b[1;31m---------------------------------------------------------------------------\u001b[0m",
      "\u001b[1;31mAttributeError\u001b[0m                            Traceback (most recent call last)",
      "Cell \u001b[1;32mIn[73], line 1\u001b[0m\n\u001b[1;32m----> 1\u001b[0m \u001b[38;5;28mprint\u001b[39m(tree\u001b[38;5;241m.\u001b[39mtraverse_postorder(root))\n",
      "\u001b[1;31mAttributeError\u001b[0m: 'Tree' object has no attribute 'traverse_postorder'"
     ]
    }
   ],
   "source": [
    "print(tree.traverse_postorder(root))"
   ]
  },
  {
   "cell_type": "code",
   "execution_count": null,
   "id": "8a61198a",
   "metadata": {},
   "outputs": [],
   "source": []
  }
 ],
 "metadata": {
  "kernelspec": {
   "display_name": "Python 3 (ipykernel)",
   "language": "python",
   "name": "python3"
  },
  "language_info": {
   "codemirror_mode": {
    "name": "ipython",
    "version": 3
   },
   "file_extension": ".py",
   "mimetype": "text/x-python",
   "name": "python",
   "nbconvert_exporter": "python",
   "pygments_lexer": "ipython3",
   "version": "3.11.5"
  }
 },
 "nbformat": 4,
 "nbformat_minor": 5
}
