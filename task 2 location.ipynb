{
 "cells": [
  {
   "cell_type": "code",
   "execution_count": 10,
   "id": "46509ef2",
   "metadata": {},
   "outputs": [
    {
     "name": "stdout",
     "output_type": "stream",
     "text": [
      "depth of the value is  4 in the tree.\n"
     ]
    }
   ],
   "source": [
    "class Tree_Node:\n",
    "    def __init__(self, value):\n",
    "        self.left = None\n",
    "        self.data = value\n",
    "        self.right = None\n",
    "class Tree:\n",
    "    def __init(self):\n",
    "        self.root = None\n",
    "    def create_node(self, data):\n",
    "        return Tree_Node(data)\n",
    "    def insert(self, node, data):\n",
    "        if node is None:\n",
    "            return self.create_node(data)\n",
    "        if data < node.data:\n",
    "            node.left = self.insert(node.left, data)\n",
    "        else:\n",
    "            node.right = self.insert(node.right, data)\n",
    "        return node\n",
    "    def find(self, node, data, depth = 1):\n",
    "        if node is None:\n",
    "            return None\n",
    "        if data < node.data:\n",
    "            return self.find(node.left, data, depth + 1)\n",
    "        elif data > node.data:\n",
    "            return self.find(node.right, data, depth + 1)\n",
    "        else:\n",
    "            return depth\n",
    "     \n",
    "    \n",
    "data = [2,3,4,5,1,6,7,8,4,9,2]            \n",
    "obj = Tree()\n",
    "root = obj.create_node(8)\n",
    "root = None  # Initialize the root as None\n",
    "\n",
    "# Insert data from the list into the tree\n",
    "for value in data:\n",
    "    root = obj.insert(root, value)\n",
    "# print(obj.display(root))\n",
    "result = obj.find(root, 4)\n",
    "if depth is not None:\n",
    "    print(f\"depth of the value is  {depth} in the tree.\")\n",
    "else:\n",
    "    print(\"Value is not found in the tree.\")"
   ]
  },
  {
   "cell_type": "code",
   "execution_count": null,
   "id": "13b3535e",
   "metadata": {},
   "outputs": [],
   "source": []
  },
  {
   "cell_type": "code",
   "execution_count": null,
   "id": "2f604528",
   "metadata": {},
   "outputs": [],
   "source": []
  },
  {
   "cell_type": "code",
   "execution_count": null,
   "id": "13bbe726",
   "metadata": {},
   "outputs": [],
   "source": []
  }
 ],
 "metadata": {
  "kernelspec": {
   "display_name": "Python 3 (ipykernel)",
   "language": "python",
   "name": "python3"
  },
  "language_info": {
   "codemirror_mode": {
    "name": "ipython",
    "version": 3
   },
   "file_extension": ".py",
   "mimetype": "text/x-python",
   "name": "python",
   "nbconvert_exporter": "python",
   "pygments_lexer": "ipython3",
   "version": "3.11.5"
  }
 },
 "nbformat": 4,
 "nbformat_minor": 5
}
