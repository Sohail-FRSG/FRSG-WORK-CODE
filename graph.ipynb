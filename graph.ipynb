{
 "cells": [
  {
   "cell_type": "code",
   "execution_count": 29,
   "id": "341d5c20",
   "metadata": {},
   "outputs": [
    {
     "name": "stdout",
     "output_type": "stream",
     "text": [
      "2, 5\n",
      "4, 6\n",
      "5, 6\n",
      "6, 7\n",
      "6, 4\n",
      "[['2,', '5'], ['4,', '6'], ['5,', '6'], ['6,', '7'], ['6,', '4']]\n"
     ]
    },
    {
     "data": {
      "text/plain": [
       "{'2,': ['5'],\n",
       " '5': ['2,'],\n",
       " '4,': ['6'],\n",
       " '6': ['4,', '5,'],\n",
       " '5,': ['6'],\n",
       " '6,': ['7', '4'],\n",
       " '7': ['6,'],\n",
       " '4': ['6,']}"
      ]
     },
     "execution_count": 29,
     "metadata": {},
     "output_type": "execute_result"
    }
   ],
   "source": [
    "def buildgraph(edges):\n",
    "    graph ={}\n",
    "    for edge in edges:\n",
    "        pointA, pointB = edge\n",
    "        if pointA not in graph:\n",
    "            graph[pointA] = []\n",
    "        if pointB not in graph:\n",
    "            graph[pointB] = []\n",
    "            \n",
    "        graph[pointA].append(pointB)\n",
    "        graph[pointB].append(pointA)\n",
    "    return graph\n",
    "\n",
    "# edges = [['i','j'],\n",
    "#          ['k','i'],\n",
    "#          ['k','l']\n",
    "#         ]\n",
    "nodes = 7\n",
    "edges = []\n",
    "for i in range(5):\n",
    "    edges.append(input().split())\n",
    "print(edges)\n",
    "buildgraph(edges)\n",
    "            "
   ]
  },
  {
   "cell_type": "code",
   "execution_count": 31,
   "id": "75c6fda4",
   "metadata": {},
   "outputs": [],
   "source": [
    "edges = [[0,1],[0,2], [1,0], [1,2], [1,3], [1,4],[2,1],[2,0],[2,4],[3,1], [3,4],[4,1],[4,2],[4,3],[4,5],[5,0],[5,3],[5,4]]"
   ]
  },
  {
   "cell_type": "code",
   "execution_count": 53,
   "id": "050cb563",
   "metadata": {},
   "outputs": [],
   "source": [
    "class Graph:\n",
    "    def __init__(self, n, edges):\n",
    "        self.nodes = nodes\n",
    "        self.data = [[] for _ in range(nodes)]\n",
    "        for n1, n2 in edges:\n",
    "            self.data[n1].append(n2)\n",
    "            self.data[n2].append(n2)  \n",
    "    def __repr__(self):\n",
    "        enumerate(self.data)"
   ]
  },
  {
   "cell_type": "code",
   "execution_count": 54,
   "id": "a11ffa0c",
   "metadata": {},
   "outputs": [],
   "source": [
    "graph1 = Graph(nodes, edges)"
   ]
  },
  {
   "cell_type": "code",
   "execution_count": 55,
   "id": "c3916450",
   "metadata": {},
   "outputs": [
    {
     "name": "stdout",
     "output_type": "stream",
     "text": [
      "(0, [1, 2, 0, 0, 0])\n",
      "(1, [1, 0, 2, 3, 4, 1, 1, 1])\n",
      "(2, [2, 2, 1, 0, 4, 2])\n",
      "(3, [3, 1, 4, 3, 3])\n",
      "(4, [4, 4, 4, 1, 2, 3, 5, 4])\n",
      "(5, [5, 0, 3, 4])\n",
      "(6, [])\n"
     ]
    }
   ],
   "source": [
    "for x in enumerate(graph1.data):\n",
    "    print(x)"
   ]
  },
  {
   "cell_type": "code",
   "execution_count": 51,
   "id": "aaae1d03",
   "metadata": {},
   "outputs": [
    {
     "name": "stdout",
     "output_type": "stream",
     "text": [
      "0 5\n",
      "1 4\n",
      "2 3\n",
      "3 2\n",
      "4 1\n"
     ]
    }
   ],
   "source": [
    "for i, value in enumerate([5,4,3,2,1]):\n",
    "    print(i, value)"
   ]
  },
  {
   "cell_type": "code",
   "execution_count": 49,
   "id": "7d728a87",
   "metadata": {},
   "outputs": [],
   "source": [
    "# graph travrsal using DFS\n",
    "def DFS_itr(graph, start):\n",
    "    stack = [start]\n",
    "    while stack:\n",
    "        cur = stack.pop()\n",
    "        print(cur)\n",
    "        for val in graph[cur]:\n",
    "            stack.append(val)\n",
    "            \n",
    "            \n",
    "            \n",
    "graph = { 1:[2,3,4],\n",
    "        2:[1,3,4],\n",
    "        3:[2,4],\n",
    "        4:[] }\n",
    "#DFS_itr(graph,1)"
   ]
  },
  {
   "cell_type": "code",
   "execution_count": 21,
   "id": "caae8082",
   "metadata": {},
   "outputs": [
    {
     "name": "stdout",
     "output_type": "stream",
     "text": [
      "1\n",
      "4\n",
      "3\n",
      "2\n"
     ]
    }
   ],
   "source": [
    "def DFS_itr(graph, start):\n",
    "    stack = [start]\n",
    "    visited = set()  # Create a set to track visited nodes\n",
    "\n",
    "    while stack:\n",
    "        cur = stack.pop()\n",
    "        if cur not in visited:\n",
    "            print(cur)\n",
    "            visited.add(cur)  # Mark the current node as visited\n",
    "            for val in graph[cur]:\n",
    "                if val not in visited:\n",
    "                    stack.append(val)\n",
    "\n",
    "graph = {1: [2, 3, 4],\n",
    "         2: [1, 3, 4],\n",
    "         3: [2, 4],\n",
    "         4: []}\n",
    "\n",
    "DFS_itr(graph, 1)\n"
   ]
  },
  {
   "cell_type": "code",
   "execution_count": 22,
   "id": "f2f67dc9",
   "metadata": {},
   "outputs": [],
   "source": [
    "a=(1,2,3,2,3)"
   ]
  },
  {
   "cell_type": "code",
   "execution_count": 23,
   "id": "05e1e9ad",
   "metadata": {},
   "outputs": [
    {
     "data": {
      "text/plain": [
       "(1, 2, 3, 2, 3)"
      ]
     },
     "execution_count": 23,
     "metadata": {},
     "output_type": "execute_result"
    }
   ],
   "source": [
    "a"
   ]
  },
  {
   "cell_type": "code",
   "execution_count": 24,
   "id": "d3b41c9e",
   "metadata": {},
   "outputs": [
    {
     "data": {
      "text/plain": [
       "2"
      ]
     },
     "execution_count": 24,
     "metadata": {},
     "output_type": "execute_result"
    }
   ],
   "source": [
    "a.count(3)"
   ]
  },
  {
   "cell_type": "code",
   "execution_count": 25,
   "id": "f81dd20c",
   "metadata": {},
   "outputs": [
    {
     "data": {
      "text/plain": [
       "2"
      ]
     },
     "execution_count": 25,
     "metadata": {},
     "output_type": "execute_result"
    }
   ],
   "source": [
    "a.count(2)"
   ]
  },
  {
   "cell_type": "code",
   "execution_count": 26,
   "id": "ca4556e3",
   "metadata": {},
   "outputs": [],
   "source": [
    "a=(3,2,1)"
   ]
  },
  {
   "cell_type": "code",
   "execution_count": 27,
   "id": "fd9de1a6",
   "metadata": {},
   "outputs": [
    {
     "data": {
      "text/plain": [
       "(3, 2, 1)"
      ]
     },
     "execution_count": 27,
     "metadata": {},
     "output_type": "execute_result"
    }
   ],
   "source": [
    "a"
   ]
  },
  {
   "cell_type": "code",
   "execution_count": 1,
   "id": "8f0795e9",
   "metadata": {},
   "outputs": [],
   "source": [
    "a=[3,2,1, 'hi']"
   ]
  },
  {
   "cell_type": "code",
   "execution_count": 2,
   "id": "a8b1fcb0",
   "metadata": {},
   "outputs": [
    {
     "data": {
      "text/plain": [
       "[3, 2, 1, 'hi']"
      ]
     },
     "execution_count": 2,
     "metadata": {},
     "output_type": "execute_result"
    }
   ],
   "source": [
    "a"
   ]
  },
  {
   "cell_type": "code",
   "execution_count": 3,
   "id": "0022725a",
   "metadata": {},
   "outputs": [
    {
     "data": {
      "text/plain": [
       "{1: 'hi'}"
      ]
     },
     "execution_count": 3,
     "metadata": {},
     "output_type": "execute_result"
    }
   ],
   "source": [
    "dic = {1:'hi'}\n",
    "dic"
   ]
  },
  {
   "cell_type": "code",
   "execution_count": 7,
   "id": "11ac3bb7",
   "metadata": {},
   "outputs": [],
   "source": [
    "dic[1]= \"lahor\""
   ]
  },
  {
   "cell_type": "code",
   "execution_count": 8,
   "id": "11ad8a10",
   "metadata": {},
   "outputs": [
    {
     "name": "stdout",
     "output_type": "stream",
     "text": [
      "{1: 'lahor'}\n"
     ]
    }
   ],
   "source": [
    "print(dic)"
   ]
  },
  {
   "cell_type": "code",
   "execution_count": 9,
   "id": "1f3a57a2",
   "metadata": {},
   "outputs": [
    {
     "data": {
      "text/plain": [
       "dict_values(['lahor'])"
      ]
     },
     "execution_count": 9,
     "metadata": {},
     "output_type": "execute_result"
    }
   ],
   "source": [
    "dic.values()"
   ]
  },
  {
   "cell_type": "code",
   "execution_count": 10,
   "id": "1d449c50",
   "metadata": {},
   "outputs": [
    {
     "data": {
      "text/plain": [
       "dict_items([(1, 'lahor')])"
      ]
     },
     "execution_count": 10,
     "metadata": {},
     "output_type": "execute_result"
    }
   ],
   "source": [
    "dic.items()"
   ]
  },
  {
   "cell_type": "code",
   "execution_count": 12,
   "id": "c0218fb1",
   "metadata": {},
   "outputs": [],
   "source": [
    "l1 = [[] for _ in range(10)]"
   ]
  },
  {
   "cell_type": "code",
   "execution_count": 17,
   "id": "51ca4877",
   "metadata": {},
   "outputs": [
    {
     "ename": "TypeError",
     "evalue": "'builtin_function_or_method' object is not subscriptable",
     "output_type": "error",
     "traceback": [
      "\u001b[1;31m---------------------------------------------------------------------------\u001b[0m",
      "\u001b[1;31mTypeError\u001b[0m                                 Traceback (most recent call last)",
      "Cell \u001b[1;32mIn[17], line 1\u001b[0m\n\u001b[1;32m----> 1\u001b[0m l1[\u001b[38;5;241m0\u001b[39m]\u001b[38;5;241m.\u001b[39mappend[(\u001b[38;5;241m1\u001b[39m)]\n",
      "\u001b[1;31mTypeError\u001b[0m: 'builtin_function_or_method' object is not subscriptable"
     ]
    }
   ],
   "source": [
    "l1[0].append(1)"
   ]
  },
  {
   "cell_type": "code",
   "execution_count": null,
   "id": "9f452c2d",
   "metadata": {},
   "outputs": [],
   "source": [
    "print(l1)"
   ]
  },
  {
   "cell_type": "code",
   "execution_count": null,
   "id": "08229705",
   "metadata": {},
   "outputs": [],
   "source": []
  }
 ],
 "metadata": {
  "kernelspec": {
   "display_name": "Python 3 (ipykernel)",
   "language": "python",
   "name": "python3"
  },
  "language_info": {
   "codemirror_mode": {
    "name": "ipython",
    "version": 3
   },
   "file_extension": ".py",
   "mimetype": "text/x-python",
   "name": "python",
   "nbconvert_exporter": "python",
   "pygments_lexer": "ipython3",
   "version": "3.11.5"
  }
 },
 "nbformat": 4,
 "nbformat_minor": 5
}
